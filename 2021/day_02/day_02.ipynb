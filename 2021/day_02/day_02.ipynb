{
 "cells": [
  {
   "cell_type": "markdown",
   "id": "fb7cf17d-f4fa-484f-89a6-e0868dbf461c",
   "metadata": {},
   "source": [
    "--- Day 2: Dive! ---\n",
    "Now, you need to figure out how to pilot this thing.\n",
    "\n",
    "It seems like the submarine can take a series of commands like forward 1, down 2, or up 3:\n",
    "\n",
    "forward X increases the horizontal position by X units.\n",
    "down X increases the depth by X units.\n",
    "up X decreases the depth by X units.\n",
    "Note that since you're on a submarine, down and up affect your depth, and so they have the opposite result of what you might expect.\n",
    "\n",
    "The submarine seems to already have a planned course (your puzzle input). You should probably figure out where it's going. For example:\n",
    "\n",
    "forward 5\n",
    "down 5\n",
    "forward 8\n",
    "up 3\n",
    "down 8\n",
    "forward 2\n",
    "Your horizontal position and depth both start at 0. The steps above would then modify them as follows:\n",
    "\n",
    "forward 5 adds 5 to your horizontal position, a total of 5.\n",
    "down 5 adds 5 to your depth, resulting in a value of 5.\n",
    "forward 8 adds 8 to your horizontal position, a total of 13.\n",
    "up 3 decreases your depth by 3, resulting in a value of 2.\n",
    "down 8 adds 8 to your depth, resulting in a value of 10.\n",
    "forward 2 adds 2 to your horizontal position, a total of 15.\n",
    "After following these instructions, you would have a horizontal position of 15 and a depth of 10. (Multiplying these together produces 150.)\n",
    "\n",
    "Calculate the horizontal position and depth you would have after following the planned course. What do you get if you multiply your final horizontal position by your final depth?"
   ]
  },
  {
   "cell_type": "markdown",
   "id": "5a9b1797",
   "metadata": {},
   "source": [
    "x is horizontal position\n",
    "y is vertical position\n",
    "\n",
    "\n",
    "forward increases x\n",
    "up decreases y\n",
    "down increases y"
   ]
  },
  {
   "cell_type": "code",
   "execution_count": 13,
   "id": "d6cd7c6b-891f-4c3d-9189-eb2a933d6727",
   "metadata": {},
   "outputs": [
    {
     "name": "stdout",
     "output_type": "stream",
     "text": [
      "POS = (1925, 879)\n",
      "Product: 1692075\n"
     ]
    }
   ],
   "source": [
    "def part01():\n",
    "    POS = (0, 0)\n",
    "\n",
    "    with open('input.txt') as f:\n",
    "        directions = (line.split() for line in f)\n",
    "\n",
    "\n",
    "        for direction, amount in directions:\n",
    "            amount = int(amount)\n",
    "            x, y = POS\n",
    "            if direction == 'forward':\n",
    "                POS = (x + amount, y)\n",
    "            if direction == 'down':\n",
    "                POS = (x, y + amount)\n",
    "            if direction == 'up':\n",
    "                POS = (x, y - amount)\n",
    "\n",
    "    x, y = POS\n",
    "    print('POS = (' + str(x) +', ' + str(y) + ')')\n",
    "    print('Product: ' + str(x * y))\n",
    "\n",
    "\n",
    "part01()"
   ]
  },
  {
   "cell_type": "markdown",
   "id": "ae4f904f",
   "metadata": {},
   "source": [
    "--- Part Two ---\n",
    "================\n",
    "Based on your calculations, the planned course doesn't seem to make any sense.\n",
    "You find the submarine manual and discover that the process is actually slightly more complicated.\n",
    "\n",
    "In addition to horizontal position and depth, you'll also need to track a third value, aim, which also starts at 0. The commands also mean something entirely different than you first thought:\n",
    "\n",
    "down X increases your aim by X units.\n",
    "up X decreases your aim by X units.\n",
    "forward X does two things:\n",
    "It increases your horizontal position by X units.\n",
    "It increases your depth by your aim multiplied by X.\n",
    "Again note that since you're on a submarine, down and up do the opposite of what you might expect: \"down\" means aiming in the positive direction.\n",
    "\n",
    "Now, the above example does something different:\n",
    "\n",
    "forward 5 adds 5 to your horizontal position, a total of 5. Because your aim is 0, your depth does not change.\n",
    "down 5 adds 5 to your aim, resulting in a value of 5.\n",
    "forward 8 adds 8 to your horizontal position, a total of 13. Because your aim is 5, your depth increases by 8 * 5=40.\n",
    "up 3 decreases your aim by 3, resulting in a value of 2.\n",
    "down 8 adds 8 to your aim, resulting in a value of 10.\n",
    "forward 2 adds 2 to your horizontal position, a total of 15. Because your aim is 10, your depth increases by 2*10=20 to a total of 60.\n",
    "After following these new instructions, you would have a horizontal position of 15 and a depth of 60. (Multiplying these produces 900.)\n",
    "\n",
    "Using this new interpretation of the commands, calculate the horizontal position and depth you would have after following the planned course. What do you get if you multiply your final horizontal position by your final depth?\n"
   ]
  },
  {
   "cell_type": "code",
   "execution_count": 17,
   "id": "8ac498df",
   "metadata": {},
   "outputs": [
    {
     "name": "stdout",
     "output_type": "stream",
     "text": [
      "POS = (1925, 908844, 879)\n",
      "Product: 1749524700\n"
     ]
    }
   ],
   "source": [
    "def part02():\n",
    "    position = (0, 0, 0)\n",
    "\n",
    "    with open('input.txt') as f:\n",
    "        directions = (line.split() for line in f)\n",
    "\n",
    "        for direction, amount in directions:\n",
    "            amount = int(amount)\n",
    "            x, y, z = position\n",
    "            if direction == 'forward':\n",
    "                position = (x + amount, y + amount * z, z)\n",
    "            if direction == 'down':\n",
    "                position = (x, y, z + amount)\n",
    "            if direction == 'up':\n",
    "                position = (x, y, z - amount)\n",
    "\n",
    "    x, y, z = position\n",
    "    print('POS = (' + str(x) +', ' + str(y) + ', ' + str(z) + ')')\n",
    "    print('Product: ' + str(x * y))\n",
    "\n",
    "part02()"
   ]
  }
 ],
 "metadata": {
  "kernelspec": {
   "display_name": "Python 3 (ipykernel)",
   "language": "python",
   "name": "python3"
  },
  "language_info": {
   "codemirror_mode": {
    "name": "ipython",
    "version": 3
   },
   "file_extension": ".py",
   "mimetype": "text/x-python",
   "name": "python",
   "nbconvert_exporter": "python",
   "pygments_lexer": "ipython3",
   "version": "3.10.0"
  }
 },
 "nbformat": 4,
 "nbformat_minor": 5
}
